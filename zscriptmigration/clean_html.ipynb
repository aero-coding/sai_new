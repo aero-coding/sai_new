{
 "cells": [
  {
   "cell_type": "code",
   "execution_count": 337,
   "id": "28920476",
   "metadata": {},
   "outputs": [],
   "source": [
    "import os\n",
    "import json\n",
    "\n",
    "import re, html, unicodedata\n",
    "import pandas as pd\n",
    "from sqlalchemy import create_engine,text\n",
    "import requests\n",
    "import time\n",
    "from dotenv import load_dotenv\n",
    "from urllib.parse import quote_plus\n",
    "from bs4 import BeautifulSoup, Comment, Doctype\n",
    "import re\n",
    "import time\n",
    "from bs4.element import Tag\n"
   ]
  },
  {
   "cell_type": "code",
   "execution_count": 338,
   "id": "dcc9ff7f",
   "metadata": {},
   "outputs": [],
   "source": [
    "# Credenciales de la Base de Datos ANTIGUA (saingo_v2)\n",
    "DB_OLD_USER = \"root\"\n",
    "DB_OLD_PASS = \"\"\n",
    "DB_OLD_HOST = \"127.0.0.1\"\n",
    "DB_OLD_NAME = \"sai_v2\"\n",
    "\n",
    "# Credenciales de la Base de Datos NUEVA (saingo_v5)\n",
    "DB_NEW_USER = \"root\"\n",
    "DB_NEW_PASS = \"\"\n",
    "DB_NEW_HOST = \"127.0.0.1\"\n",
    "DB_NEW_NAME = \"sai_v5\"\n",
    "\n",
    "##id mapping pero no la usare\n",
    "\n",
    "endpoint = os.getenv(\"AZURE_OPENAI_ENDPOINT\")\n",
    "api_key = os.getenv(\"OPENAI_API_KEY\")"
   ]
  },
  {
   "cell_type": "code",
   "execution_count": null,
   "id": "9293f831",
   "metadata": {},
   "outputs": [
    {
     "name": "stdout",
     "output_type": "stream",
     "text": [
      "<p>SAI is dedicated to bringing hope and enhancing the lives of orphaned children in Venezuela. We are excited to share the positive impact we achieved in the second quarter of 2024!</p>\n",
      "<p>Nourishing Young Minds and Bodies:</p>\n",
      "<p>SAI successfully delivered 19,950 meals to children in our partner orphanages, ensuring they receive the nutritious food necessary for growth and development. We supplied a variety of staples including cornflour, oatmeal, spaghetti, wheat flour, rice, and beans, along with protein sources such as eggs and tuna. Additionally, the children enjoyed a healthy assortment of fruits (bananas, watermelon, papaya, pineapple) and vegetables (onions, tomatoes, potatoes, carrots) to maintain a balanced diet.</p>\n",
      "<p>Providing Essential Meals:</p>\n",
      "<p>Promoting Well-being Through Healthcare:</p>\n",
      "<p>In Q2 of 2024, we launched a vital campaign to provide free laboratory over 400 tests to children in our partner orphanages. This proactive healthcare initiative allows us to detect and address potential health issues early, fostering the overall well-being of each child in our care. Our dedicated medical team continues to offer essential medical care, vitamins, and medications to meet their health needs.</p>\n",
      "<p>Free Laboratory Testing:</p>\n",
      "<p>Join Us in Making a Difference:</p>\n",
      "<p>With your ongoing support, we can accomplish even more! Become a monthly donor and help transform the lives of these deserving orphans. Together, we can make a profound impact!</p>\n",
      "<p>Thank you for your generosity!</p>\n",
      "\n",
      "Nourishing Bodies, Healing Hearts: How SAI is Transforming Lives for Venezuela’s Orphans\n"
     ]
    }
   ],
   "source": [
    "def create_db_engine(user, password, host, dbname):\n",
    "    connection_string = f\"mysql+pymysql://{user}:{password}@{host}/{dbname}?charset=utf8mb4\"\n",
    "    return create_engine(connection_string)\n",
    "\n",
    "def fetch_old_gallery_data():\n",
    "    engine = create_db_engine(DB_OLD_USER, DB_OLD_PASS, DB_OLD_HOST, DB_OLD_NAME) ##creo un motor de busqueda\n",
    "    query = \"SELECT id, title, excerpt, slug, body, seo_title, meta_description, tags, campaign_id FROM blog_posts\" ## selecciona los titulos y id de blog posts\n",
    "\n",
    "    with engine.connect() as connection:\n",
    "        df = pd.read_sql(query, connection)\n",
    "    return df\n",
    "\n",
    "\n",
    "db=fetch_old_gallery_data()\n",
    "\n",
    "data=db.iloc[82]\n",
    "\n",
    "html=data.get('body')\n",
    "\n",
    "title=data.get('title')\n",
    "\n",
    "\n",
    "\n",
    "\n",
    "soup = BeautifulSoup(html, 'html.parser')\n",
    "cont=0\n",
    "text_en=\"\"\n",
    "title=\"\"\n",
    "for tag in soup.find_all(True):\n",
    "  \n",
    "    own_text = \"\".join(tag.find_all(string=True, recursive=False)).strip().replace(\"\\xa0\", \" \")\n",
    "    if own_text:\n",
    "        cont=cont+1\n",
    "        if(tag.name!=\"em\" and own_text!=\"By Emanuel Espin |\" and own_text!=\"Project Manager\" and own_text!=title):\n",
    "            if not (cont==1 and tag.name==\"strong\"):\n",
    "                text_en=text_en+\"<p>\"+own_text+\"</p>\\r\\n\"\n",
    "            else:\n",
    "                title=own_text\n",
    "\n",
    "print(text_en)\n",
    "\n",
    "                \n",
    "\n",
    "   \n",
    "           \n",
    "\n"
   ]
  }
 ],
 "metadata": {
  "kernelspec": {
   "display_name": ".venv",
   "language": "python",
   "name": "python3"
  },
  "language_info": {
   "codemirror_mode": {
    "name": "ipython",
    "version": 3
   },
   "file_extension": ".py",
   "mimetype": "text/x-python",
   "name": "python",
   "nbconvert_exporter": "python",
   "pygments_lexer": "ipython3",
   "version": "3.13.5"
  }
 },
 "nbformat": 4,
 "nbformat_minor": 5
}
