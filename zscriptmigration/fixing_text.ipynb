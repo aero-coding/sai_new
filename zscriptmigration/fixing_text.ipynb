{
 "cells": [
  {
   "cell_type": "code",
   "execution_count": 1,
   "id": "cc674632",
   "metadata": {},
   "outputs": [
    {
     "data": {
      "text/plain": [
       "True"
      ]
     },
     "execution_count": 1,
     "metadata": {},
     "output_type": "execute_result"
    }
   ],
   "source": [
    "import os\n",
    "import json\n",
    "import pandas as pd\n",
    "import requests\n",
    "import time\n",
    "from sqlalchemy import create_engine, text\n",
    "from dotenv import load_dotenv\n",
    "from urllib.parse import quote_plus\n",
    "from bs4 import BeautifulSoup, Comment, Doctype\n",
    "import re\n",
    "import time\n",
    "\n",
    "load_dotenv()"
   ]
  },
  {
   "cell_type": "code",
   "execution_count": 2,
   "id": "2c7ca831",
   "metadata": {},
   "outputs": [],
   "source": [
    "# Credenciales de la Base de Datos ANTIGUA (leídas de tu descripción)\n",
    "DB_OLD_USER = \"root\"\n",
    "DB_OLD_PASS = \"\" # Sin contraseña\n",
    "DB_OLD_HOST = \"127.0.0.1\"\n",
    "DB_OLD_NAME = \"sai_v2\"\n",
    "\n",
    "# Credenciales de la Base de Datos NUEVA (leídas de tu descripción)\n",
    "DB_NEW_USER = \"root\"\n",
    "DB_NEW_PASS = \"\" # Sin contraseña\n",
    "DB_NEW_HOST = \"127.0.0.1\"\n",
    "DB_NEW_NAME = \"sai_v5\"\n",
    "\n",
    "endpoint = os.getenv(\"AZURE_OPENAI_ENDPOINT\")\n",
    "api_key = os.getenv(\"OPENAI_API_KEY\")\n",
    "\n",
    "STATIC_CONTENT_STRUCTURE = {\n",
    "    \"en\": {\n",
    "        \"special_tag\": \"Urgent Help\",\n",
    "        'description_heading'    : 'Description Heading',\n",
    "        'description_text'       : 'Detailed Description',\n",
    "        'summary_title'          : 'Summary Title',\n",
    "        'summary_text'           : 'Summary Text',\n",
    "        'help_mini_title'        : \"Help People In need\",\n",
    "        'help_title'             : \"Start Donating Today, Make The Difference\",\n",
    "        'help_btn_text'          : \"DONATE TO THIS PROJECT >\"\n",
    "    },\n",
    "    \"es\": {\n",
    "        \"special_tag\": \"Ayuda urgente\",\n",
    "        \"description_heading\": \"Subtitulo por defecto\",\n",
    "        \"description_text\": \"Texto de descripción por defecto\",\n",
    "        'summary_title': 'Titulo de resumen',\n",
    "        \"summary_text\": \"Texto de resumen\",\n",
    "        'help_mini_title': \"Ayuda a personas en necesidad\",\n",
    "        'help_title': \"Comienza a donar hoy, Haz la diferencia\",\n",
    "        'help_btn_text': \"DONAR A ESTE PROYECTO >\"\n",
    "    }\n",
    "}\n",
    "\n",
    "STATIC_CONTENT_JSON = json.dumps(STATIC_CONTENT_STRUCTURE, ensure_ascii=False)\n",
    "\n",
    "with open(\"promptproject2.txt\", 'r', encoding='utf-8') as f:\n",
    "    system_prompt = f.read()"
   ]
  },
  {
   "cell_type": "code",
   "execution_count": 3,
   "id": "4b7f19c8",
   "metadata": {},
   "outputs": [
    {
     "name": "stdout",
     "output_type": "stream",
     "text": [
      "SAI Orphanage Support: Hope and Nourishment for Venezuela’s Orphans\n",
      "SAI Orphanage Support: Hope and Nourishment for Venezuela’s Orphans\n"
     ]
    },
    {
     "ename": "JSONDecodeError",
     "evalue": "Expecting value: line 1 column 1 (char 0)",
     "output_type": "error",
     "traceback": [
      "\u001b[31m---------------------------------------------------------------------------\u001b[39m",
      "\u001b[31mJSONDecodeError\u001b[39m                           Traceback (most recent call last)",
      "\u001b[36mCell\u001b[39m\u001b[36m \u001b[39m\u001b[32mIn[3]\u001b[39m\u001b[32m, line 66\u001b[39m\n\u001b[32m     64\u001b[39m \u001b[38;5;28mprint\u001b[39m(title)\n\u001b[32m     65\u001b[39m data=db.iloc[i].get(\u001b[33m'\u001b[39m\u001b[33mbody\u001b[39m\u001b[33m'\u001b[39m)\n\u001b[32m---> \u001b[39m\u001b[32m66\u001b[39m parsed = \u001b[43mjson\u001b[49m\u001b[43m.\u001b[49m\u001b[43mloads\u001b[49m\u001b[43m(\u001b[49m\u001b[43mdata\u001b[49m\u001b[43m)\u001b[49m\n\u001b[32m     67\u001b[39m html_en = parsed[\u001b[33m\"\u001b[39m\u001b[33men\u001b[39m\u001b[33m\"\u001b[39m]\n\u001b[32m     68\u001b[39m \u001b[38;5;28mprint\u001b[39m(html_en)\n",
      "\u001b[36mFile \u001b[39m\u001b[32m~\\AppData\\Local\\Programs\\Python\\Python313\\Lib\\json\\__init__.py:346\u001b[39m, in \u001b[36mloads\u001b[39m\u001b[34m(s, cls, object_hook, parse_float, parse_int, parse_constant, object_pairs_hook, **kw)\u001b[39m\n\u001b[32m    341\u001b[39m     s = s.decode(detect_encoding(s), \u001b[33m'\u001b[39m\u001b[33msurrogatepass\u001b[39m\u001b[33m'\u001b[39m)\n\u001b[32m    343\u001b[39m \u001b[38;5;28;01mif\u001b[39;00m (\u001b[38;5;28mcls\u001b[39m \u001b[38;5;129;01mis\u001b[39;00m \u001b[38;5;28;01mNone\u001b[39;00m \u001b[38;5;129;01mand\u001b[39;00m object_hook \u001b[38;5;129;01mis\u001b[39;00m \u001b[38;5;28;01mNone\u001b[39;00m \u001b[38;5;129;01mand\u001b[39;00m\n\u001b[32m    344\u001b[39m         parse_int \u001b[38;5;129;01mis\u001b[39;00m \u001b[38;5;28;01mNone\u001b[39;00m \u001b[38;5;129;01mand\u001b[39;00m parse_float \u001b[38;5;129;01mis\u001b[39;00m \u001b[38;5;28;01mNone\u001b[39;00m \u001b[38;5;129;01mand\u001b[39;00m\n\u001b[32m    345\u001b[39m         parse_constant \u001b[38;5;129;01mis\u001b[39;00m \u001b[38;5;28;01mNone\u001b[39;00m \u001b[38;5;129;01mand\u001b[39;00m object_pairs_hook \u001b[38;5;129;01mis\u001b[39;00m \u001b[38;5;28;01mNone\u001b[39;00m \u001b[38;5;129;01mand\u001b[39;00m \u001b[38;5;129;01mnot\u001b[39;00m kw):\n\u001b[32m--> \u001b[39m\u001b[32m346\u001b[39m     \u001b[38;5;28;01mreturn\u001b[39;00m \u001b[43m_default_decoder\u001b[49m\u001b[43m.\u001b[49m\u001b[43mdecode\u001b[49m\u001b[43m(\u001b[49m\u001b[43ms\u001b[49m\u001b[43m)\u001b[49m\n\u001b[32m    347\u001b[39m \u001b[38;5;28;01mif\u001b[39;00m \u001b[38;5;28mcls\u001b[39m \u001b[38;5;129;01mis\u001b[39;00m \u001b[38;5;28;01mNone\u001b[39;00m:\n\u001b[32m    348\u001b[39m     \u001b[38;5;28mcls\u001b[39m = JSONDecoder\n",
      "\u001b[36mFile \u001b[39m\u001b[32m~\\AppData\\Local\\Programs\\Python\\Python313\\Lib\\json\\decoder.py:345\u001b[39m, in \u001b[36mJSONDecoder.decode\u001b[39m\u001b[34m(self, s, _w)\u001b[39m\n\u001b[32m    340\u001b[39m \u001b[38;5;28;01mdef\u001b[39;00m\u001b[38;5;250m \u001b[39m\u001b[34mdecode\u001b[39m(\u001b[38;5;28mself\u001b[39m, s, _w=WHITESPACE.match):\n\u001b[32m    341\u001b[39m \u001b[38;5;250m    \u001b[39m\u001b[33;03m\"\"\"Return the Python representation of ``s`` (a ``str`` instance\u001b[39;00m\n\u001b[32m    342\u001b[39m \u001b[33;03m    containing a JSON document).\u001b[39;00m\n\u001b[32m    343\u001b[39m \n\u001b[32m    344\u001b[39m \u001b[33;03m    \"\"\"\u001b[39;00m\n\u001b[32m--> \u001b[39m\u001b[32m345\u001b[39m     obj, end = \u001b[38;5;28;43mself\u001b[39;49m\u001b[43m.\u001b[49m\u001b[43mraw_decode\u001b[49m\u001b[43m(\u001b[49m\u001b[43ms\u001b[49m\u001b[43m,\u001b[49m\u001b[43m \u001b[49m\u001b[43midx\u001b[49m\u001b[43m=\u001b[49m\u001b[43m_w\u001b[49m\u001b[43m(\u001b[49m\u001b[43ms\u001b[49m\u001b[43m,\u001b[49m\u001b[43m \u001b[49m\u001b[32;43m0\u001b[39;49m\u001b[43m)\u001b[49m\u001b[43m.\u001b[49m\u001b[43mend\u001b[49m\u001b[43m(\u001b[49m\u001b[43m)\u001b[49m\u001b[43m)\u001b[49m\n\u001b[32m    346\u001b[39m     end = _w(s, end).end()\n\u001b[32m    347\u001b[39m     \u001b[38;5;28;01mif\u001b[39;00m end != \u001b[38;5;28mlen\u001b[39m(s):\n",
      "\u001b[36mFile \u001b[39m\u001b[32m~\\AppData\\Local\\Programs\\Python\\Python313\\Lib\\json\\decoder.py:363\u001b[39m, in \u001b[36mJSONDecoder.raw_decode\u001b[39m\u001b[34m(self, s, idx)\u001b[39m\n\u001b[32m    361\u001b[39m     obj, end = \u001b[38;5;28mself\u001b[39m.scan_once(s, idx)\n\u001b[32m    362\u001b[39m \u001b[38;5;28;01mexcept\u001b[39;00m \u001b[38;5;167;01mStopIteration\u001b[39;00m \u001b[38;5;28;01mas\u001b[39;00m err:\n\u001b[32m--> \u001b[39m\u001b[32m363\u001b[39m     \u001b[38;5;28;01mraise\u001b[39;00m JSONDecodeError(\u001b[33m\"\u001b[39m\u001b[33mExpecting value\u001b[39m\u001b[33m\"\u001b[39m, s, err.value) \u001b[38;5;28;01mfrom\u001b[39;00m\u001b[38;5;250m \u001b[39m\u001b[38;5;28;01mNone\u001b[39;00m\n\u001b[32m    364\u001b[39m \u001b[38;5;28;01mreturn\u001b[39;00m obj, end\n",
      "\u001b[31mJSONDecodeError\u001b[39m: Expecting value: line 1 column 1 (char 0)"
     ]
    }
   ],
   "source": [
    "def call_azure_openai(system_prompt, user_message):\n",
    "    \"\"\"Envía una solicitud a Azure OpenAI y devuelve la respuesta.\"\"\"\n",
    "    endpoint = os.getenv(\"AZURE_OPENAI_ENDPOINT\")\n",
    "    api_key = os.getenv(\"OPENAI_API_KEY\")\n",
    "    \n",
    "    if not endpoint or not api_key:\n",
    "        print(\"❌ Faltan credenciales de Azure OpenAI en el archivo .env\")\n",
    "        return None\n",
    "    \n",
    "    headers = {\"Content-Type\": \"application/json\", \"api-key\": api_key}\n",
    "    payload = {\n",
    "        \"messages\": [\n",
    "            {\"role\": \"system\", \"content\": system_prompt},\n",
    "            {\"role\": \"user\", \"content\": user_message}\n",
    "        ],\n",
    "        \"max_tokens\": 4096,\n",
    "        \"temperature\": 0.5,\n",
    "    }\n",
    "\n",
    "def create_db_engine(user, password, host, dbname):\n",
    "    connection_string = f\"mysql+pymysql://{user}:{password}@{host}/{dbname}?charset=utf8mb4\"\n",
    "    return create_engine(connection_string)\n",
    "\n",
    "def fetch_old_gallery_data():\n",
    "    engine = create_db_engine(DB_OLD_USER, DB_OLD_PASS, DB_OLD_HOST, DB_OLD_NAME) ##creo un motor de busqueda\n",
    "    query = \"SELECT id, title, excerpt, slug, body, seo_title, meta_description, tags, campaign_id FROM blog_posts\" ## selecciona los titulos y id de blog posts\n",
    "\n",
    "    with engine.connect() as connection:\n",
    "        df = pd.read_sql(query, connection)\n",
    "    return df\n",
    "\n",
    "def fetch_new_gallery_data():\n",
    "    engine = create_db_engine(DB_NEW_USER, DB_NEW_PASS, DB_NEW_HOST, DB_NEW_NAME) ##creo un motor de busqueda\n",
    "    query = \"SELECT id,title FROM reports\" ## selecciona los titulos y id de blog posts\n",
    "\n",
    "    with engine.connect() as connection:\n",
    "        df = pd.read_sql(query, connection)\n",
    "    return df\n",
    "\n",
    "def limpiar_json(title):\n",
    "\n",
    "    vectorAux=title.split(\",\") ##divido en una lista el string\n",
    "    limpieza=vectorAux[0] ##selecciono el titulo en ingles\n",
    "    envio=limpieza[8:-1] ##con esto quito la primera parte {\"end\"\n",
    "\n",
    "    return envio\n",
    "\n",
    "\n",
    "\n",
    "\n",
    "db=fetch_old_gallery_data()\n",
    "db_new=fetch_new_gallery_data()\n",
    "\n",
    "prueba=db_new.iloc[1].get('title')\n",
    "\n",
    "limpio=limpiar_json(prueba)\n",
    "\n",
    "print(limpio)\n",
    "\n",
    "for i in range(0,len(db)):\n",
    "\n",
    "    title=db.iloc[i].get('title')\n",
    "    if(title==limpio):\n",
    "        print(title)\n",
    "        data=db.iloc[i].get('body')\n",
    "        parsed = json.loads(data)\n",
    "        html_en = parsed[\"en\"]\n",
    "        print(html_en)\n",
    "    \n"
   ]
  }
 ],
 "metadata": {
  "kernelspec": {
   "display_name": ".venv",
   "language": "python",
   "name": "python3"
  },
  "language_info": {
   "codemirror_mode": {
    "name": "ipython",
    "version": 3
   },
   "file_extension": ".py",
   "mimetype": "text/x-python",
   "name": "python",
   "nbconvert_exporter": "python",
   "pygments_lexer": "ipython3",
   "version": "3.13.5"
  }
 },
 "nbformat": 4,
 "nbformat_minor": 5
}
